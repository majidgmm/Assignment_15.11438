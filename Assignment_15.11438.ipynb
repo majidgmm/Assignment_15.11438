{
 "cells": [
  {
   "cell_type": "markdown",
   "metadata": {},
   "source": [
    "Problem Statement 1: \n",
    "You survey households in your area to find the average rent they are paying. Find the standard deviation from the following data: \n",
    " \n",
    "$1550, $1700, $900, $850, $1000, $950. "
   ]
  },
  {
   "cell_type": "code",
   "execution_count": 26,
   "metadata": {},
   "outputs": [
    {
     "name": "stdout",
     "output_type": "stream",
     "text": [
      "Standrd Devaition is:  367.99\n"
     ]
    }
   ],
   "source": [
    "import numpy as np\n",
    "def variance(num):\n",
    "    x=num\n",
    "    n=len(X)-1\n",
    "    xbar=np.mean(x)\n",
    "    var=((x-xbar)**2).sum()/n\n",
    "    return round(var,2)\n",
    "X=[1550,1700,900,850,1000,950]\n",
    "sd=np.sqrt(variance(x))\n",
    "print(\"Standrd Devaition is: \",round(sd,2))\n"
   ]
  },
  {
   "cell_type": "markdown",
   "metadata": {},
   "source": [
    "Problem Statement 2: \n",
    "Find the variance for the following set of data representing trees in California (heights in               feet):  \n",
    "3, 21, 98, 203, 17, 9 "
   ]
  },
  {
   "cell_type": "code",
   "execution_count": 29,
   "metadata": {},
   "outputs": [
    {
     "name": "stdout",
     "output_type": "stream",
     "text": [
      "Variance is : 6219.9\n"
     ]
    }
   ],
   "source": [
    "Y=[3, 21, 98, 203, 17, 9 ]\n",
    "var=variance(Y)\n",
    "print(\"Variance is :\", var)"
   ]
  },
  {
   "cell_type": "markdown",
   "metadata": {},
   "source": [
    "Problem Statement 3: \n",
    "In a class on 100 students, 80 students passed in all subjects, 10 failed in one subject, 7                  failed in two subjects and 3 failed in three subjects. Find the probability distribution of               the variable for number of subjects a student from the given class has failed in. "
   ]
  },
  {
   "cell_type": "code",
   "execution_count": 41,
   "metadata": {},
   "outputs": [
    {
     "name": "stdout",
     "output_type": "stream",
     "text": [
      "Probabilty of Failing in 1 Subject : 0.1\n",
      "Probabilty of Failing in 3 Subjects : 0.03\n",
      "Probabilty of Failing in 7 Subjects : 0.07\n"
     ]
    }
   ],
   "source": [
    "N=100\n",
    "passed=80\n",
    "fail_1=10\n",
    "fail_7=7\n",
    "fail_3=3\n",
    "p1=fail_1/N\n",
    "p7=fail_7/N\n",
    "p3=fail_3/N\n",
    "print(\"Probabilty of Failing in 1 Subject :\", p1)\n",
    "print(\"Probabilty of Failing in 3 Subjects :\", p3)\n",
    "print(\"Probabilty of Failing in 7 Subjects :\", p7)\n"
   ]
  }
 ],
 "metadata": {
  "kernelspec": {
   "display_name": "Python 3",
   "language": "python",
   "name": "python3"
  },
  "language_info": {
   "codemirror_mode": {
    "name": "ipython",
    "version": 3
   },
   "file_extension": ".py",
   "mimetype": "text/x-python",
   "name": "python",
   "nbconvert_exporter": "python",
   "pygments_lexer": "ipython3",
   "version": "3.7.0"
  }
 },
 "nbformat": 4,
 "nbformat_minor": 2
}
